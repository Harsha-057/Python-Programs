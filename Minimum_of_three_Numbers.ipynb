{
  "nbformat": 4,
  "nbformat_minor": 0,
  "metadata": {
    "colab": {
      "name": "Minimum of three Numbers",
      "provenance": [],
      "authorship_tag": "ABX9TyMxbTHyY/lqgYSHXT4g7Xqd",
      "include_colab_link": true
    },
    "kernelspec": {
      "name": "python3",
      "display_name": "Python 3"
    },
    "language_info": {
      "name": "python"
    }
  },
  "cells": [
    {
      "cell_type": "markdown",
      "metadata": {
        "id": "view-in-github",
        "colab_type": "text"
      },
      "source": [
        "<a href=\"https://colab.research.google.com/github/Harsha-057/Python-Programs/blob/module-1/Minimum_of_three_Numbers.ipynb\" target=\"_parent\"><img src=\"https://colab.research.google.com/assets/colab-badge.svg\" alt=\"Open In Colab\"/></a>"
      ]
    },
    {
      "cell_type": "code",
      "execution_count": null,
      "metadata": {
        "colab": {
          "base_uri": "https://localhost:8080/"
        },
        "id": "qVTL9Cq2XBeg",
        "outputId": "79070c29-1df1-4d2e-b675-00503669fbf9"
      },
      "outputs": [
        {
          "output_type": "stream",
          "name": "stdout",
          "text": [
            "min is c\n"
          ]
        }
      ],
      "source": [
        "a=16\n",
        "b=18\n",
        "c=10\n",
        "if(a<b & a<c):\n",
        "    print(\"min is a\")\n",
        "elif(b<a & b<c):\n",
        "       print(\"min is b\")\n",
        "else :\n",
        "        print(\"min is c\")"
      ]
    },
    {
      "cell_type": "code",
      "source": [
        "a=int(input())\n",
        "b=int(input())\n",
        "c=int(input())\n",
        "if(a<b and a<c):\n",
        "    print(\"min is a\")\n",
        "elif(b<a and b<c):\n",
        "       print(\"min is b\")\n",
        "else :\n",
        "        print(\"min is c\")"
      ],
      "metadata": {
        "colab": {
          "base_uri": "https://localhost:8080/"
        },
        "id": "OGj1ApakXWMz",
        "outputId": "2c9a8599-fac9-4f6e-f06b-b74612c47afe"
      },
      "execution_count": null,
      "outputs": [
        {
          "output_type": "stream",
          "name": "stdout",
          "text": [
            "10\n",
            "5\n",
            "20\n",
            "min is b\n"
          ]
        }
      ]
    }
  ]
}