{
  "nbformat": 4,
  "nbformat_minor": 0,
  "metadata": {
    "colab": {
      "name": "Python_pratices.ipynb",
      "provenance": [],
      "authorship_tag": "ABX9TyPl/g3Wr7m/zvjTF8msmlEb",
      "include_colab_link": true
    },
    "kernelspec": {
      "name": "python3",
      "display_name": "Python 3"
    },
    "language_info": {
      "name": "python"
    }
  },
  "cells": [
    {
      "cell_type": "markdown",
      "metadata": {
        "id": "view-in-github",
        "colab_type": "text"
      },
      "source": [
        "<a href=\"https://colab.research.google.com/github/Harsha-057/Python-Programs/blob/module-1/Python_pratices.ipynb\" target=\"_parent\"><img src=\"https://colab.research.google.com/assets/colab-badge.svg\" alt=\"Open In Colab\"/></a>"
      ]
    },
    {
      "cell_type": "code",
      "execution_count": null,
      "metadata": {
        "colab": {
          "base_uri": "https://localhost:8080/"
        },
        "id": "9TWsK81dIXzA",
        "outputId": "0a5485ae-a484-4929-f403-0b43f8890944"
      },
      "outputs": [
        {
          "output_type": "stream",
          "name": "stdout",
          "text": [
            "25.0\n",
            "<class 'float'>\n"
          ]
        }
      ],
      "source": [
        "a=10;\n",
        "b=20;\n",
        "c=45;\n",
        "avg=(a+b+c)/3;\n",
        "print(avg);\n",
        "print(type(avg))"
      ]
    },
    {
      "cell_type": "markdown",
      "source": [
        "Find Out the person is elgiable for vot"
      ],
      "metadata": {
        "id": "ywR-LTeBPbYe"
      }
    },
    {
      "cell_type": "code",
      "source": [
        ""
      ],
      "metadata": {
        "id": "KQsaVcbTdcwF"
      },
      "execution_count": null,
      "outputs": []
    },
    {
      "cell_type": "code",
      "source": [
        "a=int(input(\"enter a number1 \"))\n",
        "print(a)\n"
      ],
      "metadata": {
        "colab": {
          "base_uri": "https://localhost:8080/"
        },
        "id": "HiZ1GRfTKPYn",
        "outputId": "f5df34c6-a8ad-4e7d-a9d2-523f0a095118"
      },
      "execution_count": null,
      "outputs": [
        {
          "output_type": "stream",
          "name": "stdout",
          "text": [
            "enter a number1 21\n",
            "21\n"
          ]
        }
      ]
    },
    {
      "cell_type": "code",
      "source": [
        "a=int(input(\"enter a number1 \"))\n",
        "b=int(input(\"enter a number2 \"))\n",
        "c=int(input(\"enter a number3 \"))\n",
        "avg=(a+b+c)/3\n",
        "print(avg)\n",
        "print(type(avg))"
      ],
      "metadata": {
        "colab": {
          "base_uri": "https://localhost:8080/"
        },
        "id": "IGKLORfxLGPP",
        "outputId": "56d00c6c-121c-40f7-c484-62cfc08c317c"
      },
      "execution_count": null,
      "outputs": [
        {
          "output_type": "stream",
          "name": "stdout",
          "text": [
            "enter a number1 20\n",
            "enter a number2 30\n",
            "enter a number3 74\n",
            "41.333333333333336\n",
            "<class 'float'>\n"
          ]
        }
      ]
    }
  ]
}