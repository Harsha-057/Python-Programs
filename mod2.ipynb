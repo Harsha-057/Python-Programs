{
  "nbformat": 4,
  "nbformat_minor": 0,
  "metadata": {
    "colab": {
      "name": "mod2.ipynb",
      "provenance": [],
      "collapsed_sections": [],
      "authorship_tag": "ABX9TyP0yuJmVYOqNrxhXtMu1TOf",
      "include_colab_link": true
    },
    "kernelspec": {
      "name": "python3",
      "display_name": "Python 3"
    },
    "language_info": {
      "name": "python"
    }
  },
  "cells": [
    {
      "cell_type": "markdown",
      "metadata": {
        "id": "view-in-github",
        "colab_type": "text"
      },
      "source": [
        "<a href=\"https://colab.research.google.com/github/Harsha-057/Python-Programs/blob/module-2/mod2.ipynb\" target=\"_parent\"><img src=\"https://colab.research.google.com/assets/colab-badge.svg\" alt=\"Open In Colab\"/></a>"
      ]
    },
    {
      "cell_type": "code",
      "execution_count": null,
      "metadata": {
        "colab": {
          "base_uri": "https://localhost:8080/"
        },
        "id": "Md40k_wJWMNa",
        "outputId": "abbc1544-3c61-49e8-e731-cabc469b5c38"
      },
      "outputs": [
        {
          "output_type": "stream",
          "name": "stdout",
          "text": [
            "25\n",
            "50\n",
            "25\n",
            "27\n",
            "29\n",
            "31\n",
            "33\n",
            "35\n",
            "37\n",
            "39\n",
            "41\n",
            "43\n",
            "45\n",
            "47\n",
            "49\n"
          ]
        }
      ],
      "source": [
        "def prime(a,b):\n",
        "  for i in range(a,b+1):\n",
        "    k=0\n",
        "    for j in range(2,i):\n",
        "      if i%j==0:\n",
        "        k+=1\n",
        "      if k==0:\n",
        "        print(i)\n",
        "        break\n",
        "l=int(input())\n",
        "m=int(input())\n",
        "prime(l,m)"
      ]
    },
    {
      "cell_type": "code",
      "source": [
        "def even(s):\n",
        "  s = s.split()\n",
        "  for i in s:\n",
        "    if len(i)%2==0:\n",
        "      print(i)\n",
        "s=str(input())\n",
        "even(s)"
      ],
      "metadata": {
        "colab": {
          "base_uri": "https://localhost:8080/"
        },
        "id": "w36XEO0YXI4W",
        "outputId": "e5b23ed6-8e79-40b1-e1c2-6d5a60704931"
      },
      "execution_count": null,
      "outputs": [
        {
          "output_type": "stream",
          "name": "stdout",
          "text": [
            "ok yes ok yes hn\n",
            "ok\n",
            "ok\n",
            "hn\n"
          ]
        }
      ]
    },
    {
      "cell_type": "code",
      "source": [
        "a = str(input(\"enter\"))\n",
        "b = a.split()\n",
        "s= ''\n",
        "for i in b:\n",
        "  x=i.capitalize()\n",
        "  c=i[-1].capitalize()\n",
        "  s=x[0:-1]+c\n",
        "  print(s,end=\" \")"
      ],
      "metadata": {
        "colab": {
          "base_uri": "https://localhost:8080/"
        },
        "id": "MF8ZNLM_X31Y",
        "outputId": "a90a8272-134a-4790-9a6d-5fd01ce0a5fc"
      },
      "execution_count": null,
      "outputs": [
        {
          "output_type": "stream",
          "name": "stdout",
          "text": [
            "enterhello world\n",
            "HellO WorlD "
          ]
        }
      ]
    },
    {
      "cell_type": "code",
      "source": [
        "n=int(input())\n",
        "s=0\n",
        "for i in range(1,(n//2+1)):\n",
        "  if n%i==0:\n",
        "      s+=i\n",
        "      if s==n:\n",
        "        print(\"perfect\")\n",
        "      else:\n",
        "        print(\"not\")"
      ],
      "metadata": {
        "colab": {
          "base_uri": "https://localhost:8080/"
        },
        "id": "5VB-4eiIYGuu",
        "outputId": "b67daa9c-6a4d-4fa2-88d0-9b32e3c15d57"
      },
      "execution_count": null,
      "outputs": [
        {
          "output_type": "stream",
          "name": "stdout",
          "text": [
            "28\n",
            "not\n",
            "not\n",
            "not\n",
            "not\n",
            "perfect\n"
          ]
        }
      ]
    },
    {
      "cell_type": "code",
      "source": [
        ""
      ],
      "metadata": {
        "id": "twp1R4oxYRyd"
      },
      "execution_count": null,
      "outputs": []
    }
  ]
}