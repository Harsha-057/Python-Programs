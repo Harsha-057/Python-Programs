{
  "nbformat": 4,
  "nbformat_minor": 0,
  "metadata": {
    "colab": {
      "name": "Module2.ipynb",
      "provenance": [],
      "authorship_tag": "ABX9TyPO0klo+PjZjVLZjFGOVxZe",
      "include_colab_link": true
    },
    "kernelspec": {
      "name": "python3",
      "display_name": "Python 3"
    },
    "language_info": {
      "name": "python"
    }
  },
  "cells": [
    {
      "cell_type": "markdown",
      "metadata": {
        "id": "view-in-github",
        "colab_type": "text"
      },
      "source": [
        "<a href=\"https://colab.research.google.com/github/Harsha-057/Python-Programs/blob/module-2/Module2.ipynb\" target=\"_parent\"><img src=\"https://colab.research.google.com/assets/colab-badge.svg\" alt=\"Open In Colab\"/></a>"
      ]
    },
    {
      "cell_type": "code",
      "execution_count": null,
      "metadata": {
        "colab": {
          "base_uri": "https://localhost:8080/"
        },
        "id": "T2rGHFM5ToEf",
        "outputId": "675b1f59-4772-4874-94a0-0e1b08539c84"
      },
      "outputs": [
        {
          "output_type": "stream",
          "name": "stdout",
          "text": [
            "enter a: 4\n",
            "enter r: 2\n",
            "6.0\n"
          ]
        }
      ],
      "source": [
        "def ncr(n,r):\n",
        "  nf,rf,sf=1,1,1\n",
        "  for i in range(1,n+1):\n",
        "    nf=nf*i\n",
        "  for i in range(1,r+1):\n",
        "    rf=rf*i\n",
        "  for i in range(1,n-r+1):\n",
        "    sf=sf*i\n",
        "  ncr=nf/(sf*rf)\n",
        "  return ncr\n",
        "n=int(input(\"enter a: \"))\n",
        "r=int(input(\"enter r: \"))\n",
        "print(ncr(n,r))"
      ]
    },
    {
      "cell_type": "code",
      "source": [
        "#Program to print a specified list after removing the 0th, 4th and 5th elements.\n",
        "#Sample List : ['Red', 'Green', 'White', 'Black', 'Pink', 'Yellow']\n",
        "#Expected Output : ['Green', 'White', 'Black']\n",
        "def del1(a):\n",
        "  a.pop(0)\n",
        "  a.pop(3)\n",
        "  a.pop(3)\n",
        "  return a\n",
        "list = ['Red', 'Green', 'White', 'Black', 'Pink', 'Yellow']\n",
        "print(del1(list))"
      ],
      "metadata": {
        "colab": {
          "base_uri": "https://localhost:8080/"
        },
        "id": "sSwD4HS8TrgZ",
        "outputId": "49bd6e00-ef78-436b-ebef-578be36f1c23"
      },
      "execution_count": null,
      "outputs": [
        {
          "output_type": "stream",
          "name": "stdout",
          "text": [
            "['Green', 'White', 'Black']\n"
          ]
        }
      ]
    },
    {
      "cell_type": "code",
      "source": [
        "def diff(a,b):\n",
        "  c= set(a)\n",
        "  d= set(b)\n",
        "  e=c.difference(d)\n",
        "  f = list(e)\n",
        "  return f\n",
        "a=[1,45,67,89,34,5]\n",
        "b=[1,45,89]\n",
        "diff(a,b)"
      ],
      "metadata": {
        "colab": {
          "base_uri": "https://localhost:8080/"
        },
        "id": "fIatbYr9TttM",
        "outputId": "68b7e02d-7cc3-4607-e95c-43371cf80078"
      },
      "execution_count": null,
      "outputs": [
        {
          "output_type": "execute_result",
          "data": {
            "text/plain": [
              "[34, 67, 5]"
            ]
          },
          "metadata": {},
          "execution_count": 16
        }
      ]
    },
    {
      "cell_type": "code",
      "source": [
        "#Program to find the second smallest number and second largest number in a list.\n",
        "def aa(a):\n",
        "  a.sort()\n",
        "  print(a[1])\n",
        "  print(a[-2])\n",
        "a=[1,8,10,45,36,2]\n",
        "aa(a)"
      ],
      "metadata": {
        "colab": {
          "base_uri": "https://localhost:8080/"
        },
        "id": "WJWlDcN3UJpy",
        "outputId": "dac37294-bd56-41b2-9638-9c3825b14486"
      },
      "execution_count": null,
      "outputs": [
        {
          "output_type": "stream",
          "name": "stdout",
          "text": [
            "2\n",
            "36\n"
          ]
        }
      ]
    },
    {
      "cell_type": "code",
      "source": [
        "dict =\t{\n",
        "  \"name\": \"smthng\",\n",
        "  \"age\": \"18\",\n",
        "  \"year\": 2003\n",
        "}\n",
        "del dict[\"year\"]\n",
        "print(dict)"
      ],
      "metadata": {
        "id": "vytGxXxfVPub",
        "colab": {
          "base_uri": "https://localhost:8080/"
        },
        "outputId": "73027d05-3da9-4167-a2ab-9ddebc1acdfc"
      },
      "execution_count": null,
      "outputs": [
        {
          "output_type": "stream",
          "name": "stdout",
          "text": [
            "{'name': 'smthng', 'age': '18'}\n"
          ]
        }
      ]
    },
    {
      "cell_type": "code",
      "source": [
        "#Program to Acronym generator for any user input (ex-input is Random memory access\n",
        "#then output should be RMA).Example - Random number (RN)\n",
        "a=input(str(\"enter\"))\n",
        "f=a+\" \"\n",
        "b=len(f)\n",
        "f.capitalize()\n",
        "for i in range(0,d):\n",
        "  c=f[b]\n",
        "  if f[i]==\" \":\n",
        "    b=i+1\n",
        "    print(c)"
      ],
      "metadata": {
        "id": "9lFapXsRyRWh"
      },
      "execution_count": null,
      "outputs": []
    },
    {
      "cell_type": "code",
      "source": [
        "a=[2,4,6,7,8,9,20]\n",
        "b=[]\n",
        "for i in range(len(a)):\n",
        "  c=[]\n",
        "  c.append(a[i])\n",
        "  d=a[i]*a[i]\n",
        "  c.append(d)\n",
        "  e=tuple(c)\n",
        "  b.append(c)\n",
        "  print(b)"
      ],
      "metadata": {
        "colab": {
          "base_uri": "https://localhost:8080/"
        },
        "id": "v5wDtqG_0gNQ",
        "outputId": "98d6e690-d4fe-4f74-de58-ab1981891763"
      },
      "execution_count": null,
      "outputs": [
        {
          "output_type": "stream",
          "name": "stdout",
          "text": [
            "[[2, 4], [4, 16], [6, 36], [7, 49], [8, 64], [9, 81], [20, 400]]\n"
          ]
        }
      ]
    },
    {
      "cell_type": "code",
      "source": [
        "def dic(a):\n",
        "  d={}\n",
        "  for i in range(1,a+1):\n",
        "     d[i]=i*i\n",
        "  return d\n",
        "a=int(input(\"enter :\"))\n",
        "d=dict(a)\n",
        "print(dic(a))"
      ],
      "metadata": {
        "colab": {
          "base_uri": "https://localhost:8080/"
        },
        "id": "ZVomsK_i3aBP",
        "outputId": "5c2eb9cb-2d83-48da-aa5e-0225a94e45b9"
      },
      "execution_count": null,
      "outputs": [
        {
          "output_type": "stream",
          "name": "stdout",
          "text": [
            "enter :7\n",
            "{1: 1, 2: 4, 3: 9, 4: 16, 5: 25, 6: 36, 7: 49}\n"
          ]
        }
      ]
    }
  ]
}