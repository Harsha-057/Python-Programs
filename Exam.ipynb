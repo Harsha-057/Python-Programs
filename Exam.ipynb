{
  "nbformat": 4,
  "nbformat_minor": 0,
  "metadata": {
    "colab": {
      "name": "Exam.ipynb",
      "provenance": [],
      "authorship_tag": "ABX9TyPQz62qeeewndhdaAsejc1c",
      "include_colab_link": true
    },
    "kernelspec": {
      "name": "python3",
      "display_name": "Python 3"
    },
    "language_info": {
      "name": "python"
    }
  },
  "cells": [
    {
      "cell_type": "markdown",
      "metadata": {
        "id": "view-in-github",
        "colab_type": "text"
      },
      "source": [
        "<a href=\"https://colab.research.google.com/github/Harsha-057/Python-Programs/blob/module-1/Exam.ipynb\" target=\"_parent\"><img src=\"https://colab.research.google.com/assets/colab-badge.svg\" alt=\"Open In Colab\"/></a>"
      ]
    },
    {
      "cell_type": "code",
      "execution_count": null,
      "metadata": {
        "colab": {
          "base_uri": "https://localhost:8080/"
        },
        "id": "dTV0YbhlFli3",
        "outputId": "30788a07-d5e0-4637-f1b3-64d076319258"
      },
      "outputs": [
        {
          "output_type": "stream",
          "name": "stdout",
          "text": [
            "km\n",
            "30\n",
            "30000.0\n"
          ]
        }
      ],
      "source": [
        "a=str(input())\n",
        "b=float(input())\n",
        "if a=='f':\n",
        "   c=5(b-32)/9\n",
        "   print(c)\n",
        "elif a=='km':\n",
        "  d=b*1000\n",
        "  print(d)\n",
        "else:\n",
        "  print(\"give only f or km\")"
      ]
    }
  ]
}